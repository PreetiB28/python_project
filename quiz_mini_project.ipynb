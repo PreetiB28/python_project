{
 "cells": [
  {
   "cell_type": "code",
   "execution_count": 1,
   "metadata": {},
   "outputs": [],
   "source": [
    "Q1=\"\"\"1. Dr. Zakir Hussain was\n",
    "A.the first Muslim president of India\n",
    "B.first vice president of India\n",
    "C.first president of Indian National Congress\n",
    "D.first speaker of Lok Sabha\"\"\""
   ]
  },
  {
   "cell_type": "code",
   "execution_count": 2,
   "metadata": {},
   "outputs": [],
   "source": [
    "Q2=\"\"\"2. Which institution developed the ‘Energy Swaraj Yatra’ bus?\n",
    "A.IIT Madras\n",
    "B.IIT Bombay\n",
    "C.IIT Guwahati\n",
    "D.IISc Bengaluru\"\"\""
   ]
  },
  {
   "cell_type": "code",
   "execution_count": 3,
   "metadata": {},
   "outputs": [],
   "source": [
    "Q3=\"\"\"3. Which of the following is the highest gravity dam in the World?\n",
    "A.Rihand Dam Project\n",
    "B.Damodar Valley Project\n",
    "C.Bhakhra Dam\n",
    "D.Kosi Project\"\"\""
   ]
  },
  {
   "cell_type": "code",
   "execution_count": 4,
   "metadata": {},
   "outputs": [],
   "source": [
    "Q4=\"\"\"4. The reaction which converts sugar solution into alcohol is an example of\n",
    "A.saponification\n",
    "B.hydrogenation\n",
    "C.fermentation\n",
    "D.hydrolysis\"\"\""
   ]
  },
  {
   "cell_type": "code",
   "execution_count": 5,
   "metadata": {},
   "outputs": [],
   "source": [
    "Q5=\"\"\"5. The number of already named bones in the human skeleton is\n",
    "A.200\n",
    "B.206\n",
    "C.212\n",
    "D.218\"\"\""
   ]
  },
  {
   "cell_type": "code",
   "execution_count": 6,
   "metadata": {},
   "outputs": [],
   "source": [
    "Q6=\"\"\"6. The playground of lawn tennis is called\n",
    "A.court\n",
    "B.board\n",
    "C.arena\n",
    "D.rink\"\"\""
   ]
  },
  {
   "cell_type": "code",
   "execution_count": 7,
   "metadata": {},
   "outputs": [],
   "source": [
    "Q7=\"\"\"7. The number of chromosomes in human body is\n",
    "A.42\n",
    "B.44\n",
    "C.46\n",
    "D.48\"\"\""
   ]
  },
  {
   "cell_type": "code",
   "execution_count": 8,
   "metadata": {},
   "outputs": [],
   "source": [
    "Q8=\"\"\"8. Dandia' is a popular dance of\n",
    "A.Punjab\n",
    "B.Gujarat\n",
    "C.Tamil Nadu\n",
    "D.Maharashtra\"\"\""
   ]
  },
  {
   "cell_type": "code",
   "execution_count": 9,
   "metadata": {},
   "outputs": [],
   "source": [
    "Q9=\"\"\"9. ICICI is the name of a\n",
    "A.chemical industry\n",
    "B.bureau\n",
    "C.corporation\n",
    "D.financial company\"\"\""
   ]
  },
  {
   "cell_type": "code",
   "execution_count": 10,
   "metadata": {},
   "outputs": [],
   "source": [
    "Q10=\"\"\"10. Paper currency first started in India in\n",
    "A.1861\n",
    "B.1542\n",
    "C.1601\n",
    "D.1880\"\"\""
   ]
  },
  {
   "cell_type": "markdown",
   "metadata": {},
   "source": [
    "# make a dictionary in which the correct option will act as key"
   ]
  },
  {
   "cell_type": "code",
   "execution_count": 11,
   "metadata": {},
   "outputs": [],
   "source": [
    "Answer={Q1:\"A\",Q2:\"B\",Q3:\"C\",Q4:\"C\",Q5:\"B\",Q6:\"A\",Q7:\"C\",Q8:\"B\",Q9:\"D\",Q10:\"A\"}"
   ]
  },
  {
   "cell_type": "code",
   "execution_count": 12,
   "metadata": {},
   "outputs": [
    {
     "name": "stdout",
     "output_type": "stream",
     "text": [
      "ENTER YOUR NAME : kajal\n",
      "Hello ! kajal, WELCOME to the Quiz \n",
      "<<<---------->>>\n"
     ]
    }
   ],
   "source": [
    "user_name=input(\"ENTER YOUR NAME : \")\n",
    "print(f\"Hello ! {user_name}, WELCOME to the Quiz \") \n",
    "score=0\n",
    "\n",
    "\n",
    "print(\"<<<---------->>>\")"
   ]
  },
  {
   "cell_type": "code",
   "execution_count": 13,
   "metadata": {},
   "outputs": [
    {
     "name": "stdout",
     "output_type": "stream",
     "text": [
      "---------------------------------\n",
      "1. Dr. Zakir Hussain was\n",
      "A.the first Muslim president of India\n",
      "B.first vice president of India\n",
      "C.first president of Indian National Congress\n",
      "D.first speaker of Lok Sabha\n",
      "Do you really want to skip this question (Y/N) ? \n",
      "Enter your choice kajal : Y\n",
      "---------------------------------\n",
      "2. Which institution developed the ‘Energy Swaraj Yatra’ bus?\n",
      "A.IIT Madras\n",
      "B.IIT Bombay\n",
      "C.IIT Guwahati\n",
      "D.IISc Bengaluru\n",
      "Do you really want to skip this question (Y/N) ? \n",
      "Enter your choice kajal : Y\n",
      "---------------------------------\n",
      "3. Which of the following is the highest gravity dam in the World?\n",
      "A.Rihand Dam Project\n",
      "B.Damodar Valley Project\n",
      "C.Bhakhra Dam\n",
      "D.Kosi Project\n",
      "Do you really want to skip this question (Y/N) ? \n",
      "Enter your choice kajal : N\n",
      "enter the option (A/B/C/D) : h\n",
      "oops, wrong answer\n",
      "your score is -1\n",
      "Do you want to quit this game..? (Y?N) : Y\n",
      "****GAME OVER***\n",
      "your score is -1\n"
     ]
    }
   ],
   "source": [
    "for i in Answer:\n",
    "    print(\"---------------------------------\")\n",
    "    print(i)\n",
    "    print(f\"Do you really want to skip this question (Y/N) ? \")\n",
    "    user_choice=input(f\"Enter your choice {user_name} : \")\n",
    "    if user_choice==\"Y\":\n",
    "        continue\n",
    "    answer_key=input(\"enter the option (A/B/C/D) : \")\n",
    "    if answer_key==Answer[i]:\n",
    "        print(\"congrats ! your answer is right \")\n",
    "        score+=1\n",
    "        print(f\"your score is {score} \" )\n",
    "    else:\n",
    "        print(\"oops, wrong answer\")\n",
    "        score-=1\n",
    "        print(f\"your score is {score}\")\n",
    "    user_choice2=input(\"Do you want to quit this game..? (Y?N) : \")\n",
    "    if user_choice2==\"Y\":\n",
    "        print(\"****GAME OVER***\")\n",
    "        print(f\"your score is {score}\")\n",
    "        break        \n",
    "    "
   ]
  }
 ],
 "metadata": {
  "kernelspec": {
   "display_name": "Python 3",
   "language": "python",
   "name": "python3"
  },
  "language_info": {
   "codemirror_mode": {
    "name": "ipython",
    "version": 3
   },
   "file_extension": ".py",
   "mimetype": "text/x-python",
   "name": "python",
   "nbconvert_exporter": "python",
   "pygments_lexer": "ipython3",
   "version": "3.8.5"
  }
 },
 "nbformat": 4,
 "nbformat_minor": 4
}
